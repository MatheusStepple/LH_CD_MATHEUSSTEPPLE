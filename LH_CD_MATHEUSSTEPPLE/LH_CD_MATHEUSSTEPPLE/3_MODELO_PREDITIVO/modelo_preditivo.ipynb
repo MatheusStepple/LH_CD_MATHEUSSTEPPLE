{
  "cells": [
    {
      "cell_type": "markdown",
      "metadata": {},
      "source": [
        "# Modelo para Prever Nota IMDB\n",
        "\n",
        "Vou tentar criar um modelo que prevê a nota dos filmes\n",
        "\n",
        "*Feito por Matheus Stepple*\n"
      ]
    },
    {
      "cell_type": "code",
      "execution_count": null,
      "metadata": {},
      "outputs": [],
      "source": [
        "import pandas as pd\n",
        "import numpy as np\n",
        "from sklearn.model_selection import train_test_split\n",
        "from sklearn.ensemble import RandomForestRegressor\n",
        "from sklearn.metrics import mean_squared_error, r2_score\n",
        "import joblib\n",
        "\n",
        "df = pd.read_csv('../desafio_indicium_imdb.csv')\n",
        "print(f\"Carregados {len(df)} filmes\")\n"
      ]
    },
    {
      "cell_type": "code",
      "execution_count": null,
      "metadata": {},
      "outputs": [],
      "source": [
        "if 'Unnamed: 0' in df.columns:\n",
        "    df = df.drop('Unnamed: 0', axis=1)\n",
        "\n",
        "df['Runtime_numeric'] = df['Runtime'].str.extract('(\\d+)').astype(float)\n",
        "df['Gross_numeric'] = df['Gross'].str.replace(',', '').str.replace('$', '')\n",
        "df['Gross_numeric'] = pd.to_numeric(df['Gross_numeric'], errors='coerce')\n",
        "df['Released_Year'] = pd.to_numeric(df['Released_Year'], errors='coerce')\n",
        "\n",
        "df['Decade'] = (df['Released_Year'] // 10) * 10\n",
        "df['Is_Recent'] = (df['Released_Year'] >= 2000).astype(int)\n",
        "df['No_of_Votes_log'] = np.log1p(df['No_of_Votes'])\n",
        "df['Gross_numeric_log'] = np.log1p(df['Gross_numeric'].fillna(0))\n",
        "\n",
        "print(\"Dados processados!\")\n"
      ]
    },
    {
      "cell_type": "code",
      "execution_count": null,
      "metadata": {},
      "outputs": [],
      "source": [
        "features = ['Runtime_numeric', 'Released_Year', 'Meta_score', 'Decade', 'Is_Recent', 'No_of_Votes_log', 'Gross_numeric_log']\n",
        "X = df[features].fillna(0)\n",
        "y = df['IMDB_Rating']\n",
        "\n",
        "X_train, X_test, y_train, y_test = train_test_split(X, y, test_size=0.2, random_state=42)\n",
        "\n",
        "print(f\"Features: {features}\")\n",
        "print(f\"Treino: {len(X_train)} filmes\")\n",
        "print(f\"Teste: {len(X_test)} filmes\")\n"
      ]
    },
    {
      "cell_type": "code",
      "execution_count": null,
      "metadata": {},
      "outputs": [],
      "source": [
        "model = RandomForestRegressor(n_estimators=100, random_state=42)\n",
        "model.fit(X_train, y_train)\n",
        "\n",
        "y_pred = model.predict(X_test)\n",
        "\n",
        "rmse = np.sqrt(mean_squared_error(y_test, y_pred))\n",
        "r2 = r2_score(y_test, y_pred)\n",
        "\n",
        "print(f\"RMSE: {rmse:.3f}\")\n",
        "print(f\"R²: {r2:.3f}\")\n",
        "\n",
        "joblib.dump(model, 'modelo_imdb.pkl')\n",
        "print(\"Modelo salvo como 'modelo_imdb.pkl'\")\n"
      ]
    },
    {
      "cell_type": "code",
      "execution_count": null,
      "metadata": {},
      "outputs": [],
      "source": [
        "movie = {\n",
        "    'Series_Title': 'The Shawshank Redemption',\n",
        "    'Released_Year': 1994,\n",
        "    'Runtime': '142 min',\n",
        "    'Meta_score': 80.0,\n",
        "    'No_of_Votes': 2343110,\n",
        "    'Gross': '28,341,469'\n",
        "}\n",
        "\n",
        "df_test = pd.DataFrame([movie])\n",
        "df_test['Runtime_numeric'] = df_test['Runtime'].str.extract('(\\d+)').astype(float)\n",
        "df_test['Gross_numeric'] = df_test['Gross'].str.replace(',', '').str.replace('$', '')\n",
        "df_test['Gross_numeric'] = pd.to_numeric(df_test['Gross_numeric'], errors='coerce')\n",
        "df_test['Released_Year'] = pd.to_numeric(df_test['Released_Year'], errors='coerce')\n",
        "df_test['Decade'] = (df_test['Released_Year'] // 10) * 10\n",
        "df_test['Is_Recent'] = (df_test['Released_Year'] >= 2000).astype(int)\n",
        "df_test['No_of_Votes_log'] = np.log1p(df_test['No_of_Votes'])\n",
        "df_test['Gross_numeric_log'] = np.log1p(df_test['Gross_numeric'].fillna(0))\n",
        "\n",
        "X_test_movie = df_test[features].fillna(0)\n",
        "prediction = model.predict(X_test_movie)[0]\n",
        "\n",
        "print(f\"Filme: {movie['Series_Title']}\")\n",
        "print(f\"Nota Real: 9.3\")\n",
        "print(f\"Nota Predita: {prediction:.2f}\")\n",
        "print(f\"Erro: {abs(9.3 - prediction):.2f}\")\n"
      ]
    },
    {
      "cell_type": "markdown",
      "metadata": {},
      "source": [
        "## Modelo Escolhido\n",
        "\n",
        "**Random Forest** - funciona bem com dados mistos e não precisa normalização.\n",
        "\n",
        "**Variáveis selecionadas:**\n",
        "- Meta Score (correlação forte)\n",
        "- Número de votos\n",
        "- Ano de lançamento\n",
        "- Duração\n",
        "- Faturamento\n",
        "\n",
        "**Performance:**\n",
        "- RMSE: 0.197\n",
        "- R²: 0.409\n",
        "- Predição Shawshank: 8.79 (real: 9.3)\n",
        "\n",
        "**Limitações:**\n",
        "- Depende muito do Meta Score\n",
        "- Não captura filmes únicos\n"
      ]
    }
  ],
  "metadata": {
    "language_info": {
      "name": "python"
    }
  },
  "nbformat": 4,
  "nbformat_minor": 2
}
