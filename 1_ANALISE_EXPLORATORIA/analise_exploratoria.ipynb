{
  "cells": [
    {
      "cell_type": "markdown",
      "metadata": {},
      "source": [
        "# Análise dos Filmes IMDB\n",
        "## Matheus Stepple\n",
        "\n",
        "Vou analisar os dados dos filmes para ver o que funciona melhor\n",
        "\n",
        "*Feito por Matheus Stepple*\n"
      ]
    },
    {
      "cell_type": "code",
      "execution_count": null,
      "metadata": {},
      "outputs": [],
      "source": [
        "import pandas as pd\n",
        "import numpy as np\n",
        "import matplotlib.pyplot as plt\n",
        "\n",
        "df = pd.read_csv('../desafio_indicium_imdb.csv')\n",
        "print(f\"Carregados {len(df)} filmes\")\n",
        "print(f\"Colunas: {list(df.columns)}\")\n"
      ]
    },
    {
      "cell_type": "code",
      "execution_count": null,
      "metadata": {},
      "outputs": [],
      "source": [
        "print(\"Vamos ver o que tem aqui:\")\n",
        "print(f\"Total: {df.shape[0]} filmes, {df.shape[1]} colunas\")\n",
        "print(f\"Colunas: {list(df.columns)}\")\n",
        "print(\"\\nPrimeiros filmes:\")\n",
        "df.head()\n"
      ]
    },
    {
      "cell_type": "code",
      "execution_count": null,
      "metadata": {},
      "outputs": [],
      "source": [
        "print(\"Algumas estatísticas:\")\n",
        "df.describe()\n"
      ]
    },
    {
      "cell_type": "code",
      "execution_count": null,
      "metadata": {},
      "outputs": [],
      "source": [
        "print(\"Vamos ver as notas:\")\n",
        "print(f\"Média: {df['IMDB_Rating'].mean():.2f}\")\n",
        "print(f\"Mediana: {df['IMDB_Rating'].median():.2f}\")\n",
        "print(f\"Menor: {df['IMDB_Rating'].min():.2f}\")\n",
        "print(f\"Maior: {df['IMDB_Rating'].max():.2f}\")\n",
        "\n",
        "plt.figure(figsize=(10, 6))\n",
        "plt.hist(df['IMDB_Rating'], bins=30, alpha=0.7)\n",
        "plt.title('Notas dos Filmes')\n",
        "plt.xlabel('Nota')\n",
        "plt.ylabel('Quantos filmes')\n",
        "plt.show()\n"
      ]
    },
    {
      "cell_type": "code",
      "execution_count": null,
      "metadata": {},
      "outputs": [],
      "source": [
        "print(\"Vamos ver os gêneros:\")\n",
        "all_genres = []\n",
        "for genres in df['Genre'].dropna():\n",
        "    genre_list = [g.strip() for g in genres.split(',')]\n",
        "    all_genres.extend(genre_list)\n",
        "\n",
        "genre_counts = pd.Series(all_genres).value_counts().head(10)\n",
        "print(\"Os 10 gêneros que mais aparecem:\")\n",
        "print(genre_counts)\n",
        "\n",
        "plt.figure(figsize=(12, 6))\n",
        "genre_counts.plot(kind='bar')\n",
        "plt.title('Gêneros Mais Comuns')\n",
        "plt.xlabel('Gênero')\n",
        "plt.ylabel('Quantos filmes')\n",
        "plt.xticks(rotation=45)\n",
        "plt.tight_layout()\n",
        "plt.show()\n"
      ]
    },
    {
      "cell_type": "code",
      "execution_count": null,
      "metadata": {},
      "outputs": [],
      "source": [
        "print(\"Vamos ver por ano:\")\n",
        "df['Released_Year'] = pd.to_numeric(df['Released_Year'], errors='coerce')\n",
        "print(f\"De {df['Released_Year'].min():.0f} até {df['Released_Year'].max():.0f}\")\n",
        "\n",
        "plt.figure(figsize=(12, 6))\n",
        "df['Released_Year'].hist(bins=20, alpha=0.7)\n",
        "plt.title('Filmes por Ano')\n",
        "plt.xlabel('Ano')\n",
        "plt.ylabel('Quantos filmes')\n",
        "plt.show()\n"
      ]
    },
    {
      "cell_type": "code",
      "execution_count": null,
      "metadata": {},
      "outputs": [],
      "source": [
        "print(\"Vamos ver o que influencia a nota:\")\n",
        "numeric_vars = ['IMDB_Rating', 'Released_Year', 'Meta_score', 'No_of_Votes']\n",
        "correlations = df[numeric_vars].corr()['IMDB_Rating'].sort_values(ascending=False)\n",
        "\n",
        "print(\"Correlações:\")\n",
        "for var, corr in correlations.items():\n",
        "    if var != 'IMDB_Rating':\n",
        "        print(f\"{var}: {corr:.3f}\")\n",
        "\n",
        "plt.figure(figsize=(10, 8))\n",
        "plt.scatter(df['Meta_score'], df['IMDB_Rating'], alpha=0.6)\n",
        "plt.title('Meta Score vs Nota')\n",
        "plt.xlabel('Meta Score')\n",
        "plt.ylabel('Nota')\n",
        "plt.show()\n"
      ]
    },
    {
      "cell_type": "code",
      "execution_count": null,
      "metadata": {},
      "outputs": [],
      "source": [
        "print(\"Os melhores filmes:\")\n",
        "top_movies = df.nlargest(10, 'IMDB_Rating')[['Series_Title', 'IMDB_Rating', 'Released_Year', 'Genre']]\n",
        "print(top_movies)\n",
        "\n",
        "print(\"\\nOs piores filmes:\")\n",
        "worst_movies = df.nsmallest(10, 'IMDB_Rating')[['Series_Title', 'IMDB_Rating', 'Released_Year', 'Genre']]\n",
        "print(worst_movies)\n"
      ]
    },
    {
      "cell_type": "code",
      "execution_count": null,
      "metadata": {},
      "outputs": [],
      "source": [
        "print(\"Vamos ver a duração:\")\n",
        "df['Runtime_numeric'] = df['Runtime'].str.extract('(\\d+)').astype(float)\n",
        "print(f\"Média: {df['Runtime_numeric'].mean():.1f} minutos\")\n",
        "print(f\"Mediana: {df['Runtime_numeric'].median():.1f} minutos\")\n",
        "\n",
        "plt.figure(figsize=(10, 6))\n",
        "plt.hist(df['Runtime_numeric'], bins=30, alpha=0.7)\n",
        "plt.title('Duração dos Filmes')\n",
        "plt.xlabel('Minutos')\n",
        "plt.ylabel('Quantos filmes')\n",
        "plt.show()\n",
        "\n",
        "print(\"\\nDuração influencia a nota?\")\n",
        "corr_duration = df['Runtime_numeric'].corr(df['IMDB_Rating'])\n",
        "print(f\"Correlação: {corr_duration:.3f}\")\n"
      ]
    },
    {
      "cell_type": "code",
      "execution_count": null,
      "metadata": {},
      "outputs": [],
      "source": [
        "print(\"Resumo do que vi:\")\n",
        "print(f\"Total: {len(df)} filmes\")\n",
        "print(f\"Período: {df['Released_Year'].min():.0f} - {df['Released_Year'].max():.0f}\")\n",
        "print(f\"Nota média: {df['IMDB_Rating'].mean():.2f}\")\n",
        "print(f\"Duração média: {df['Runtime_numeric'].mean():.1f} min\")\n",
        "print(f\"Gênero mais comum: {genre_counts.index[0]} ({genre_counts.iloc[0]} filmes)\")\n",
        "\n",
        "print(\"\\nO que descobri:\")\n",
        "print(\"1. Meta Score tem correlação forte com nota\")\n",
        "print(\"2. Drama é o gênero mais comum\")\n",
        "print(\"3. Duração não influencia muito a qualidade\")\n",
        "print(\"4. Filmes novos não são melhores\")\n"
      ]
    }
  ],
  "metadata": {
    "language_info": {
      "name": "python"
    }
  },
  "nbformat": 4,
  "nbformat_minor": 2
}
